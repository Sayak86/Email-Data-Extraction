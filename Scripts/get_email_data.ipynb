{
 "cells": [
  {
   "cell_type": "code",
   "execution_count": 1,
   "metadata": {},
   "outputs": [],
   "source": [
    "from  Prompt_Loader import get_prompt_file,load_prompt,format_prompt\n",
    "import extractPDF as epdf\n",
    "import os,json\n",
    "import sys\n",
    "import Extract_Data_From_Email as edfe"
   ]
  },
  {
   "cell_type": "code",
   "execution_count": 28,
   "metadata": {},
   "outputs": [],
   "source": [
    "# define an orchestrator function that takes one input for the prompt_id and returns the extracted data\n",
    "SELECTED_PROMPT =\"\"\n",
    "variables=\"\"\n",
    "\n",
    "def orchestrator(prompt_id,email_file_name):\n",
    "    # load the formatted prompt\n",
    "    formatted_prompt = format_prompt(SELECTED_PROMPT, variables)\n",
    "    print(f\"Formatted prompt for the {SELECTED_PROMPT} is \\n  {formatted_prompt}\")\n",
    "\n",
    "    # Reset the messages\n",
    "    messages = [\n",
    "        {\"role\": \"system\", \"content\": formatted_prompt}\n",
    "    ]\n",
    "\n",
    "    # Now we will load the content of an email that we will pass to the chat completion API as user input\n",
    "    DATA_DIR = \"Data\"\n",
    "    file_path = os.path.join(\"..\",DATA_DIR, email_file_name)\n",
    "    email_data = epdf.extract_text_from_pdf(file_path)\n",
    "\n",
    "    # Call the function to extract the data from the email\n",
    "    print(\"============Data extraction starts ============\")\n",
    "    extracted_data = edfe.callChatCompletion(messages,email_data)\n",
    "    print(f\"Extracted data is {extracted_data}\")\n",
    "    print(\"============Data extraction ends  ============\")\n",
    "\n",
    "\n",
    "    "
   ]
  },
  {
   "cell_type": "code",
   "execution_count": 27,
   "metadata": {},
   "outputs": [
    {
     "name": "stdout",
     "output_type": "stream",
     "text": [
      "Formatted prompt for the Account_Number_0 is \n",
      "  You are an intelligent operation user in a large Swiss Bank. You provides services to custodian clients on their trade enquiries, settlements or orders.\n",
      "############\n",
      "You have to extract the custodian account number from the email provided by the user.\n",
      "\n",
      "============Data extract starts ============\n",
      "Extracted data is The custodian account numbers from the email are:\n",
      "\n",
      "1. 023077856603.Y9\n",
      "2. 023090008199.T3\n",
      "3. 023064732983.F6\n",
      "4. 023089841663.B1\n",
      "5. 023080476874.C3\n"
     ]
    }
   ],
   "source": [
    "# Very basic prompt to extract Account number\n",
    "\n",
    "SELECTED_PROMPT = \"Account_Number_0\" \n",
    "# define the args dictionary\n",
    "variables = {\n",
    "\t'delimiter': '############'\n",
    "}\n",
    "orchestrator(SELECTED_PROMPT,\"unsettled_trade_email_with_table.pdf\")"
   ]
  },
  {
   "cell_type": "code",
   "execution_count": null,
   "metadata": {},
   "outputs": [],
   "source": []
  }
 ],
 "metadata": {
  "kernelspec": {
   "display_name": "base",
   "language": "python",
   "name": "python3"
  },
  "language_info": {
   "codemirror_mode": {
    "name": "ipython",
    "version": 3
   },
   "file_extension": ".py",
   "mimetype": "text/x-python",
   "name": "python",
   "nbconvert_exporter": "python",
   "pygments_lexer": "ipython3",
   "version": "3.11.5"
  }
 },
 "nbformat": 4,
 "nbformat_minor": 2
}
