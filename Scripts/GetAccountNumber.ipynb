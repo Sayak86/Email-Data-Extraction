{
 "cells": [
  {
   "cell_type": "code",
   "execution_count": 7,
   "metadata": {},
   "outputs": [],
   "source": [
    "import os,json\n",
    "import sys\n",
    "import openai\n",
    "from dotenv import load_dotenv"
   ]
  },
  {
   "cell_type": "code",
   "execution_count": 5,
   "metadata": {},
   "outputs": [],
   "source": [
    "from pdf2image import convert_from_path\n",
    "import pytesseract\n",
    "from PIL import Image\n",
    "\n",
    "def extract_text_from_pdf(file_path):\n",
    "    # Set the tesseract executable path\n",
    "    pytesseract.pytesseract.tesseract_cmd = \"/usr/bin/tesseract\"  # Update this path as per your installation\n",
    "    images = convert_from_path(file_path, dpi=300)\n",
    "    text = ''\n",
    "    for i, image in enumerate(images):\n",
    "        text += pytesseract.image_to_string(image)\n",
    "    return text    \n"
   ]
  },
  {
   "cell_type": "code",
   "execution_count": 2,
   "metadata": {},
   "outputs": [],
   "source": [
    "# Basic prompt\n",
    "delimiter = \"################\"\n",
    "\n",
    "SYSTEM_PROMPT = \"\"\"  \n",
    "You are an intelligent operation user in a large Swiss Bank. You provides services to custodian clients on their trade enquiries, settlements or orders.\n",
    "{delimiter}\n",
    "You have to extract the custodian account number from the email provided by the user.\n",
    "\"\"\""
   ]
  },
  {
   "cell_type": "code",
   "execution_count": 3,
   "metadata": {},
   "outputs": [],
   "source": [
    "# Reset the messages\n",
    "messages = [\n",
    "        {\"role\": \"system\", \"content\": SYSTEM_PROMPT}\n",
    "    ]"
   ]
  },
  {
   "cell_type": "code",
   "execution_count": 8,
   "metadata": {},
   "outputs": [],
   "source": [
    "\n",
    "# Set the API key in env variable\n",
    "load_dotenv()\n",
    "api_key = os.getenv(\"OPENAI_API_KEY\")\n",
    "\n",
    "# Initialize the OpenAI API\n",
    "openai.api_key = api_key\n",
    "\n",
    "def callChatCompletion(messages,email):\n",
    "    messages.append({\"role\": \"user\", \"content\": email})\n",
    "    response = openai.chat.completions.create(\n",
    "                                        model=\"gpt-4o\",\n",
    "                                        messages = messages,\n",
    "                                        temperature=0\n",
    "                        \n",
    "    )\n",
    "    return response.choices[0].message.content"
   ]
  },
  {
   "cell_type": "code",
   "execution_count": null,
   "metadata": {},
   "outputs": [],
   "source": [
    "# Get the content of the email pdf\n",
    "file_pth = \"\"\n",
    "email_data = extract_text_from_pdf(file_path)"
   ]
  },
  {
   "cell_type": "code",
   "execution_count": null,
   "metadata": {},
   "outputs": [],
   "source": [
    "    # Call the function to extract the data from the email\n",
    "print(\"============Data extraction starts ============\")\n",
    "extracted_data = callChatCompletion(messages,email_data)\n",
    "print(f\"Extracted data is {extracted_data}\")\n",
    "print(\"============Data extraction ends  ============\")"
   ]
  }
 ],
 "metadata": {
  "kernelspec": {
   "display_name": "base",
   "language": "python",
   "name": "python3"
  },
  "language_info": {
   "codemirror_mode": {
    "name": "ipython",
    "version": 3
   },
   "file_extension": ".py",
   "mimetype": "text/x-python",
   "name": "python",
   "nbconvert_exporter": "python",
   "pygments_lexer": "ipython3",
   "version": "3.11.5"
  }
 },
 "nbformat": 4,
 "nbformat_minor": 2
}
